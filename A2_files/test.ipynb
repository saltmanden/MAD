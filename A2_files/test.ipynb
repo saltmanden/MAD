{
 "cells": [
  {
   "cell_type": "code",
   "execution_count": null,
   "metadata": {},
   "outputs": [
    {
     "name": "stdout",
     "output_type": "stream",
     "text": [
      "(26, 1)\n",
      "(1,)\n",
      "(26, 2)\n"
     ]
    },
    {
     "ename": "ValueError",
     "evalue": "matmul: Input operand 1 has a mismatch in its core dimension 0, with gufunc signature (n?,k),(k,m?)->(n?,m?) (size 1 is different from 27)",
     "output_type": "error",
     "traceback": [
      "\u001b[1;31m---------------------------------------------------------------------------\u001b[0m",
      "\u001b[1;31mValueError\u001b[0m                                Traceback (most recent call last)",
      "Cell \u001b[1;32mIn[23], line 40\u001b[0m\n\u001b[0;32m     34\u001b[0m             loss \u001b[38;5;241m+\u001b[39m\u001b[38;5;241m=\u001b[39m (pred \u001b[38;5;241m-\u001b[39m y_val) \u001b[38;5;241m*\u001b[39m\u001b[38;5;241m*\u001b[39m \u001b[38;5;241m2\u001b[39m\n\u001b[0;32m     37\u001b[0m     \u001b[38;5;28;01mreturn\u001b[39;00m loss\n\u001b[1;32m---> 40\u001b[0m \u001b[43mleave_one_out_cross_validation\u001b[49m\u001b[43m(\u001b[49m\u001b[43mX\u001b[49m\u001b[43m,\u001b[49m\u001b[43m \u001b[49m\u001b[43my\u001b[49m\u001b[43m,\u001b[49m\u001b[43m \u001b[49m\u001b[43m[\u001b[49m\u001b[38;5;241;43m0\u001b[39;49m\u001b[43m,\u001b[49m\u001b[38;5;241;43m1\u001b[39;49m\u001b[43m]\u001b[49m\u001b[43m)\u001b[49m\n",
      "Cell \u001b[1;32mIn[23], line 30\u001b[0m, in \u001b[0;36mleave_one_out_cross_validation\u001b[1;34m(X, t, lambda_values)\u001b[0m\n\u001b[0;32m     28\u001b[0m \u001b[38;5;28mprint\u001b[39m(A\u001b[38;5;241m.\u001b[39mshape)\n\u001b[0;32m     29\u001b[0m \u001b[38;5;28mprint\u001b[39m(X_\u001b[38;5;241m.\u001b[39mshape)\n\u001b[1;32m---> 30\u001b[0m w \u001b[38;5;241m=\u001b[39m np\u001b[38;5;241m.\u001b[39mlinalg\u001b[38;5;241m.\u001b[39minv(\u001b[43mX\u001b[49m\u001b[38;5;241;43m.\u001b[39;49m\u001b[43mT\u001b[49m\u001b[43m \u001b[49m\u001b[38;5;241;43m@\u001b[39;49m\u001b[43m \u001b[49m\u001b[43mA\u001b[49m \u001b[38;5;241m@\u001b[39m X) \u001b[38;5;241m@\u001b[39m X\u001b[38;5;241m.\u001b[39mT \u001b[38;5;241m@\u001b[39m A \u001b[38;5;241m@\u001b[39m y\n\u001b[0;32m     31\u001b[0m \u001b[38;5;28;01mreturn\u001b[39;00m w\n\u001b[0;32m     32\u001b[0m model\u001b[38;5;241m.\u001b[39mfit(X_train, y_train)\n",
      "\u001b[1;31mValueError\u001b[0m: matmul: Input operand 1 has a mismatch in its core dimension 0, with gufunc signature (n?,k),(k,m?)->(n?,m?) (size 1 is different from 27)"
     ]
    }
   ],
   "source": [
    "import numpy as np\n",
    "from regularize_lin_reg import LinearRegression\n",
    "import matplotlib.pyplot as plt\n",
    "raw = np.genfromtxt('men-olympics-100.txt',delimiter=' ')\n",
    "lambda_values = np.logspace(-8, 0, 100, base=10)\n",
    "\n",
    "X = raw[:, 0:1]\n",
    "y = raw[:,1]\n",
    "\n",
    "y = y.reshape((len(y), 1))\n",
    "\n",
    "def leave_one_out_cross_validation(X, t, lambda_values):\n",
    "    errors = []\n",
    "    l = len(X)\n",
    "    for lambda_ in lambda_values:\n",
    "        loss = 0\n",
    "        model = LinearRegression(lambda_=lambda_)\n",
    "        for i in range(len(X)):\n",
    "            X_train = np.array([x for a, x in enumerate(X) if a != i])\n",
    "            y_train = np.array([x for a, x in enumerate(y) if a != i])\n",
    "\n",
    "            print(X_train.T.shape)\n",
    "\n",
    "            X_val = X[i]\n",
    "            y_val = y[i]\n",
    "            X_ = np.c_[np.ones(X_train.shape[0]), X_train]\n",
    "            A = np.diag(y_train**2)\n",
    "            print(A.shape)\n",
    "            print(X_.shape)\n",
    "            w = np.linalg.inv(X.T @ A @ X) @ X.T @ A @ y\n",
    "            return w\n",
    "            model.fit(X_train, y_train)\n",
    "            pred = model.predict(X_val)\n",
    "            loss += (pred - y_val) ** 2\n",
    "        \n",
    "    \n",
    "    return loss\n",
    "\n",
    "\n",
    "leave_one_out_cross_validation(X, y, [0,1])"
   ]
  },
  {
   "cell_type": "code",
   "execution_count": 8,
   "metadata": {},
   "outputs": [
    {
     "data": {
      "text/plain": [
       "array([ 3.73968318e+01, -1.38284925e-02])"
      ]
     },
     "execution_count": 8,
     "metadata": {},
     "output_type": "execute_result"
    }
   ],
   "source": [
    "import numpy\n",
    "\n",
    "raw = np.genfromtxt('men-olympics-100.txt',delimiter=' ')\n",
    "lambda_values = np.logspace(-8, 0, 100, base=10)\n",
    "\n",
    "X = raw[:, 0:1]\n",
    "y = raw[:,1]\n",
    "\n",
    "X = numpy.c_[numpy.ones(X.shape[0]), X]\n",
    "A = numpy.diag(y**2)\n",
    "w = numpy.linalg.inv(X.T @ A @ X) @ X.T @ A @ y\n",
    "\n",
    "w"
   ]
  }
 ],
 "metadata": {
  "kernelspec": {
   "display_name": "Python 3",
   "language": "python",
   "name": "python3"
  },
  "language_info": {
   "codemirror_mode": {
    "name": "ipython",
    "version": 3
   },
   "file_extension": ".py",
   "mimetype": "text/x-python",
   "name": "python",
   "nbconvert_exporter": "python",
   "pygments_lexer": "ipython3",
   "version": "3.11.8"
  }
 },
 "nbformat": 4,
 "nbformat_minor": 2
}
